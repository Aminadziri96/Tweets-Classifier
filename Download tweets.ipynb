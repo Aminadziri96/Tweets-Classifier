{
 "cells": [
  {
   "cell_type": "markdown",
   "metadata": {},
   "source": [
    "![Alt Text](https://miro.medium.com/max/1600/1*K5r1UXVuYmVuqXiKkuX5tg.gif)\n",
    "\n",
    "\n",
    "![Image of Yaktocat](https://stackabuse.com/content/images/2018/01/accessing-twitter-api-with-python.png)"
   ]
  },
  {
   "cell_type": "code",
   "execution_count": 7,
   "metadata": {},
   "outputs": [
    {
     "name": "stdin",
     "output_type": "stream",
     "text": [
      "Enter the number of tweets that you want to extract-  2000\n",
      "Enter the hashtag you want to scrape-  economy\n"
     ]
    },
    {
     "name": "stdout",
     "output_type": "stream",
     "text": [
      "downloaded2000tweets\n"
     ]
    }
   ],
   "source": [
    "#!/usr/bin/python\n",
    "# -*- coding: utf-8 -*-\n",
    "\n",
    "import tweepy\n",
    "import csv\n",
    "import json\n",
    "\n",
    "# API credentials here\n",
    "consumer_key = \"oCXOidLwh4iJdfx7jE1eA92oE\"\n",
    "consumer_secret = \"zOs8rMnEwL5ggheUacMdSIzJZ74QZQV01WZrDjWfeGvZG5USi9\"\n",
    "access_token = \"1327999624171368450-z174EGborRp3e6Tr9irVpUCPDFL3lL\"\n",
    "access_token_secret = \"y6YcPwMDP78FADpvAgZ9zOUEFSt8HRTdJj3nWjAXnVxiw\"\n",
    "\n",
    "# Create the api endpoint\n",
    "\n",
    "auth = tweepy.OAuthHandler(consumer_key, consumer_secret)\n",
    "api = tweepy.API(auth)\n",
    "\n",
    "# Mention the maximum number of tweets that you want to be extracted.\n",
    "\n",
    "maximum_number_of_tweets_to_be_extracted = int(input('Enter the number of tweets that you want to extract- '))\n",
    "\n",
    "# Mention the hashtag that you want to look out for\n",
    "\n",
    "hashtag = input('Enter the hashtag you want to scrape- ')\n",
    "\n",
    "\n",
    "\n",
    "#we reate a list form of only id, date of creation, and text from the tweets that will be downloaded. \n",
    "#this is important because there are part of the tweets like the status, that cant be looped through. With this\n",
    "#we make sure that we loop through it. \n",
    "\n",
    "\n",
    "outtweets = [[tweet.id_str, tweet.created_at,\n",
    "                 tweet.text.encode('utf-8')] for tweet in tweepy.Cursor(api.search, q='#' + hashtag,\n",
    "                           rpp=100).items(maximum_number_of_tweets_to_be_extracted)]\n",
    "\n",
    "# we create the csv document we are going to place the tweets into. \n",
    "with open( hashtag + '_tweets.csv', 'w', encoding='utf8') as f:\n",
    "    writer = csv.writer(f)\n",
    "    writer.writerow(['id', 'created_at', 'text'])\n",
    "    writer.writerows(outtweets)\n",
    "\n",
    "print('downloaded' + str(maximum_number_of_tweets_to_be_extracted) + 'tweets')"
   ]
  },
  {
   "cell_type": "markdown",
   "metadata": {},
   "source": [
    "#!/usr/bin/python\n",
    "# -*- coding: utf-8 -*-\n",
    "\n",
    "import tweepy\n",
    "import csv\n",
    "import json\n",
    "\n",
    "# API credentials here\n",
    "consumer_key = \"oCXOidLwh4iJdfx7jE1eA92oE\"\n",
    "consumer_secret = \"zOs8rMnEwL5ggheUacMdSIzJZ74QZQV01WZrDjWfeGvZG5USi9\"\n",
    "access_token = \"1327999624171368450-z174EGborRp3e6Tr9irVpUCPDFL3lL\"\n",
    "access_token_secret = \"y6YcPwMDP78FADpvAgZ9zOUEFSt8HRTdJj3nWjAXnVxiw\"\n",
    "\n",
    "# Create the api endpoint\n",
    "\n",
    "auth = tweepy.OAuthHandler(consumer_key, consumer_secret)\n",
    "api = tweepy.API(auth)\n",
    "\n",
    "# Mention the maximum number of tweets that you want to be extracted.\n",
    "\n",
    "maximum_number_of_tweets_to_be_extracted = int(input('Enter the number of tweets that you want to extract- '))\n",
    "\n",
    "# Mention the hashtag that you want to look out for\n",
    "\n",
    "hashtag = input('Enter the hashtag you want to scrape- ')\n",
    "\n",
    "\n",
    "\n",
    "#we reate a list form of only id, date of creation, and text from the tweets that will be downloaded. \n",
    "#this is important because there are part of the tweets like the status, that cant be looped through. With this\n",
    "#we make sure that we loop through it. \n",
    "\n",
    "\n",
    "outtweets = [[tweet.id_str, tweet.created_at,\n",
    "                 tweet.text.encode('utf-8')] for tweet in tweepy.Cursor(api.search, q='#' + hashtag,\n",
    "                           rpp=100).items(maximum_number_of_tweets_to_be_extracted)]\n",
    "\n",
    "# we create the csv document we are going to place the tweets into. \n",
    "with open( hashtag + '_tweets.csv', 'w', encoding='utf8') as f:\n",
    "    writer = csv.writer(f)\n",
    "    writer.writerow(['id', 'created_at', 'text'])\n",
    "    writer.writerows(outtweets)\n",
    "\n",
    "print('downloaded' + str(maximum_number_of_tweets_to_be_extracted) + 'tweets')"
   ]
  },
  {
   "cell_type": "code",
   "execution_count": 14,
   "metadata": {},
   "outputs": [
    {
     "name": "stdin",
     "output_type": "stream",
     "text": [
      "Enter the number of tweets that you want to extract-  2000\n",
      "Enter the hashtag you want to scrape-  education\n"
     ]
    },
    {
     "name": "stdout",
     "output_type": "stream",
     "text": [
      "downloaded2000tweets\n"
     ]
    }
   ],
   "source": [
    "#!/usr/bin/python\n",
    "# -*- coding: utf-8 -*-\n",
    "\n",
    "import tweepy\n",
    "import csv\n",
    "import json\n",
    "\n",
    "# API credentials here\n",
    "consumer_key = \"oCXOidLwh4iJdfx7jE1eA92oE\"\n",
    "consumer_secret = \"zOs8rMnEwL5ggheUacMdSIzJZ74QZQV01WZrDjWfeGvZG5USi9\"\n",
    "access_token = \"1327999624171368450-z174EGborRp3e6Tr9irVpUCPDFL3lL\"\n",
    "access_token_secret = \"y6YcPwMDP78FADpvAgZ9zOUEFSt8HRTdJj3nWjAXnVxiw\"\n",
    "\n",
    "# Create the api endpoint\n",
    "\n",
    "auth = tweepy.OAuthHandler(consumer_key, consumer_secret)\n",
    "api = tweepy.API(auth)\n",
    "\n",
    "# Mention the maximum number of tweets that you want to be extracted.\n",
    "\n",
    "maximum_number_of_tweets_to_be_extracted = int(input('Enter the number of tweets that you want to extract- '))\n",
    "\n",
    "# Mention the hashtag that you want to look out for\n",
    "\n",
    "hashtag = input('Enter the hashtag you want to scrape- ')\n",
    "\n",
    "\n",
    "\n",
    "#we reate a list form of only id, date of creation, and text from the tweets that will be downloaded. \n",
    "#this is important because there are part of the tweets like the status, that cant be looped through. With this\n",
    "#we make sure that we loop through it. \n",
    "\n",
    "\n",
    "outtweets = [[tweet.id_str, tweet.created_at,\n",
    "                 tweet.text.encode('utf-8')] for tweet in tweepy.Cursor(api.search, q='#' + hashtag,\n",
    "                           rpp=100).items(maximum_number_of_tweets_to_be_extracted)]\n",
    "\n",
    "# we create the csv document we are going to place the tweets into. \n",
    "with open( hashtag + '_tweets.csv', 'w', encoding='utf8') as f:\n",
    "    writer = csv.writer(f)\n",
    "    writer.writerow(['id', 'created_at', 'text'])\n",
    "    writer.writerows(outtweets)\n",
    "\n",
    "print('downloaded' + str(maximum_number_of_tweets_to_be_extracted) + 'tweets')"
   ]
  },
  {
   "cell_type": "code",
   "execution_count": 18,
   "metadata": {},
   "outputs": [
    {
     "name": "stdin",
     "output_type": "stream",
     "text": [
      "Enter the number of tweets that you want to extract-  2000\n",
      "Enter the hashtag you want to scrape-  movies\n"
     ]
    },
    {
     "name": "stdout",
     "output_type": "stream",
     "text": [
      "downloaded2000tweets\n"
     ]
    }
   ],
   "source": [
    "#!/usr/bin/python\n",
    "# -*- coding: utf-8 -*-\n",
    "\n",
    "import tweepy\n",
    "import csv\n",
    "import json\n",
    "\n",
    "# API credentials here\n",
    "consumer_key = \"oCXOidLwh4iJdfx7jE1eA92oE\"\n",
    "consumer_secret = \"zOs8rMnEwL5ggheUacMdSIzJZ74QZQV01WZrDjWfeGvZG5USi9\"\n",
    "access_token = \"1327999624171368450-z174EGborRp3e6Tr9irVpUCPDFL3lL\"\n",
    "access_token_secret = \"y6YcPwMDP78FADpvAgZ9zOUEFSt8HRTdJj3nWjAXnVxiw\"\n",
    "\n",
    "# Create the api endpoint\n",
    "\n",
    "auth = tweepy.OAuthHandler(consumer_key, consumer_secret)\n",
    "api = tweepy.API(auth)\n",
    "\n",
    "# Mention the maximum number of tweets that you want to be extracted.\n",
    "\n",
    "maximum_number_of_tweets_to_be_extracted = int(input('Enter the number of tweets that you want to extract- '))\n",
    "\n",
    "# Mention the hashtag that you want to look out for\n",
    "\n",
    "hashtag = input('Enter the hashtag you want to scrape- ')\n",
    "\n",
    "\n",
    "\n",
    "#we reate a list form of only id, date of creation, and text from the tweets that will be downloaded. \n",
    "#this is important because there are part of the tweets like the status, that cant be looped through. With this\n",
    "#we make sure that we loop through it. \n",
    "\n",
    "\n",
    "outtweets = [[tweet.id_str, tweet.created_at,\n",
    "                 tweet.text.encode('utf-8')] for tweet in tweepy.Cursor(api.search, q='#' + hashtag,\n",
    "                           rpp=100).items(maximum_number_of_tweets_to_be_extracted)]\n",
    "\n",
    "# we create the csv document we are going to place the tweets into. \n",
    "with open( hashtag + '_tweets.csv', 'w', encoding='utf8') as f:\n",
    "    writer = csv.writer(f)\n",
    "    writer.writerow(['id', 'created_at', 'text'])\n",
    "    writer.writerows(outtweets)\n",
    "\n",
    "print('downloaded' + str(maximum_number_of_tweets_to_be_extracted) + 'tweets')"
   ]
  },
  {
   "cell_type": "code",
   "execution_count": 19,
   "metadata": {},
   "outputs": [
    {
     "name": "stdin",
     "output_type": "stream",
     "text": [
      "Enter the number of tweets that you want to extract-  2000\n",
      "Enter the hashtag you want to scrape-  sport\n"
     ]
    },
    {
     "name": "stdout",
     "output_type": "stream",
     "text": [
      "downloaded2000tweets\n"
     ]
    }
   ],
   "source": [
    "#!/usr/bin/python\n",
    "# -*- coding: utf-8 -*-\n",
    "\n",
    "import tweepy\n",
    "import csv\n",
    "import json\n",
    "\n",
    "# API credentials here\n",
    "consumer_key = \"oCXOidLwh4iJdfx7jE1eA92oE\"\n",
    "consumer_secret = \"zOs8rMnEwL5ggheUacMdSIzJZ74QZQV01WZrDjWfeGvZG5USi9\"\n",
    "access_token = \"1327999624171368450-z174EGborRp3e6Tr9irVpUCPDFL3lL\"\n",
    "access_token_secret = \"y6YcPwMDP78FADpvAgZ9zOUEFSt8HRTdJj3nWjAXnVxiw\"\n",
    "\n",
    "# Create the api endpoint\n",
    "\n",
    "auth = tweepy.OAuthHandler(consumer_key, consumer_secret)\n",
    "api = tweepy.API(auth)\n",
    "\n",
    "# Mention the maximum number of tweets that you want to be extracted.\n",
    "\n",
    "maximum_number_of_tweets_to_be_extracted = int(input('Enter the number of tweets that you want to extract- '))\n",
    "\n",
    "# Mention the hashtag that you want to look out for\n",
    "\n",
    "hashtag = input('Enter the hashtag you want to scrape- ')\n",
    "\n",
    "\n",
    "\n",
    "#we reate a list form of only id, date of creation, and text from the tweets that will be downloaded. \n",
    "#this is important because there are part of the tweets like the status, that cant be looped through. With this\n",
    "#we make sure that we loop through it. \n",
    "\n",
    "\n",
    "outtweets = [[tweet.id_str, tweet.created_at,\n",
    "                 tweet.text.encode('utf-8')] for tweet in tweepy.Cursor(api.search, q='#' + hashtag,\n",
    "                           rpp=100).items(maximum_number_of_tweets_to_be_extracted)]\n",
    "\n",
    "# we create the csv document we are going to place the tweets into. \n",
    "with open( hashtag + '_tweets.csv', 'w', encoding='utf8') as f:\n",
    "    writer = csv.writer(f)\n",
    "    writer.writerow(['id', 'created_at', 'text'])\n",
    "    writer.writerows(outtweets)\n",
    "\n",
    "print('downloaded' + str(maximum_number_of_tweets_to_be_extracted) + 'tweets')"
   ]
  },
  {
   "cell_type": "markdown",
   "metadata": {},
   "source": [
    "\n",
    "<p style='color:#8A073E; background-color:#F3F0F1; text-align:center'; text>\n",
    "\n",
    "    \n",
    " ## <a style=\"color:#BB0E4D\" font=\" Bookman\"  size=\"75\" > => Aprés avoir récupérer les tweets de chaque théme on essaye de les cleaning    </a> \n",
    "   \n",
    "</p>\n",
    "\n"
   ]
  },
  {
   "cell_type": "markdown",
   "metadata": {},
   "source": [
    "![Image of Yaktocat](https://www.kdnuggets.com/wp-content/uploads/text-data-task-framework-preprocessing.png)"
   ]
  },
  {
   "cell_type": "code",
   "execution_count": null,
   "metadata": {},
   "outputs": [],
   "source": []
  }
 ],
 "metadata": {
  "kernelspec": {
   "display_name": "Python 3",
   "language": "python",
   "name": "python3"
  },
  "language_info": {
   "codemirror_mode": {
    "name": "ipython",
    "version": 3
   },
   "file_extension": ".py",
   "mimetype": "text/x-python",
   "name": "python",
   "nbconvert_exporter": "python",
   "pygments_lexer": "ipython3",
   "version": "3.7.4"
  }
 },
 "nbformat": 4,
 "nbformat_minor": 4
}
